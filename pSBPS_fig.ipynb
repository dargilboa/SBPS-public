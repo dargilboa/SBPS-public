{
 "cells": [
  {
   "cell_type": "markdown",
   "metadata": {
    "deletable": true,
    "editable": true
   },
   "source": [
    "# Compare SBPS to pSBPS - logistic regression"
   ]
  },
  {
   "cell_type": "markdown",
   "metadata": {
    "deletable": true,
    "editable": true
   },
   "source": [
    "### Import libraries"
   ]
  },
  {
   "cell_type": "code",
   "execution_count": 1,
   "metadata": {
    "collapsed": false,
    "deletable": true,
    "editable": true,
    "jupyter": {
     "outputs_hidden": false
    },
    "pycharm": {
     "is_executing": true
    }
   },
   "outputs": [
    {
     "name": "stderr",
     "output_type": "stream",
     "text": [
      "2023-12-03 20:48:55.849894: I tensorflow/core/platform/cpu_feature_guard.cc:182] This TensorFlow binary is optimized to use available CPU instructions in performance-critical operations.\n",
      "To enable the following instructions: AVX2 FMA, in other operations, rebuild TensorFlow with the appropriate compiler flags.\n"
     ]
    },
    {
     "name": "stdout",
     "output_type": "stream",
     "text": [
      "WARNING:tensorflow:From /Users/darg/Documents/IntelliJ_Projects/DNI/venv/lib/python3.9/site-packages/tensorflow/python/compat/v2_compat.py:107: disable_resource_variables (from tensorflow.python.ops.variable_scope) is deprecated and will be removed in a future version.\n",
      "Instructions for updating:\n",
      "non-resource variables are not supported in the long term\n"
     ]
    }
   ],
   "source": [
    "import tensorflow.compat.v1 as tf\n",
    "tf.disable_v2_behavior()\n",
    "#import tensorflow as tf\n",
    "import numpy as np\n",
    "from samplers import *\n",
    "from utils import *\n",
    "import matplotlib.pyplot as plt\n",
    "%matplotlib inline \n",
    "from sklearn import linear_model\n",
    "import copy\n",
    "import scipy.stats\n",
    "import itertools\n",
    "import os\n",
    "import time\n",
    "sess = tf.compat.v1.InteractiveSession()\n",
    "tf.compat.v1.disable_eager_execution()"
   ]
  },
  {
   "cell_type": "markdown",
   "metadata": {
    "deletable": true,
    "editable": true
   },
   "source": [
    "### Data generation"
   ]
  },
  {
   "cell_type": "code",
   "execution_count": 2,
   "metadata": {
    "collapsed": false,
    "deletable": true,
    "editable": true,
    "jupyter": {
     "outputs_hidden": false
    },
    "pycharm": {
     "is_executing": true
    }
   },
   "outputs": [],
   "source": [
    "# Generate logistic regression data\n",
    "D =   20\n",
    "N = 1000\n",
    "target_w = 10*(np.random.rand(D) - .5)\n",
    "train_images = np.random.rand(N,D) - .5\n",
    "cov = np.diag(np.ones(D))\n",
    "cov[0,0] = 1/float(500)\n",
    "#cov = np.linalg\n",
    "for i in range(N):\n",
    "    train_images[i,:] = np.random.multivariate_normal(np.zeros(D),cov)\n",
    "base=np.float64\n",
    "tfbase=tf.float64\n",
    "train_probs = logit(np.dot(train_images,target_w))\n",
    "train_labels = np.expand_dims(train_probs<np.random.rand(N),1).astype(base)\n",
    "data = np.float64( train_images.reshape( train_labels.shape[0], train_images[0].size ) )\n",
    "labels = train_labels\n",
    "probs=logit(np.matmul(train_images, target_w))\n",
    "def test_error():\n",
    "    return 0"
   ]
  },
  {
   "cell_type": "code",
   "execution_count": 3,
   "metadata": {
    "collapsed": false,
    "deletable": true,
    "editable": true,
    "jupyter": {
     "outputs_hidden": false
    },
    "pycharm": {
     "is_executing": true
    }
   },
   "outputs": [
    {
     "name": "stdout",
     "output_type": "stream",
     "text": [
      "[[-0.79837755 -0.10210419 -0.15692887  0.02388174  0.04541383  0.02447948\n",
      "   0.02583089  0.02829573 -0.09798444 -0.19465376 -0.12514626 -0.01877565\n",
      "  -0.20436867  0.14508538 -0.13229052  0.28889192 -0.01287721 -0.0719918\n",
      "  -0.12300726  0.12415859]]\n"
     ]
    }
   ],
   "source": [
    "# Use SKLearn to run SAG\n",
    "import sklearn.linear_model as lin_mod\n",
    "skLogistic=lin_mod.LogisticRegression(fit_intercept=False,solver='sag',C=1e10,max_iter=N*10,tol=1e-6)\n",
    "skLogistic.fit(data,np.reshape(labels,[N,]))\n",
    "W_map=skLogistic.coef_.copy()\n",
    "probs_sk=logit(np.matmul(train_images, np.reshape(W_map,[D,1])))\n",
    "print(W_map-target_w) # show differences in W\n",
    "W_map = np.transpose(W_map)\n",
    "W_map = np.squeeze(W_map)"
   ]
  },
  {
   "cell_type": "markdown",
   "metadata": {
    "deletable": true,
    "editable": true
   },
   "source": [
    "### Model Statement"
   ]
  },
  {
   "cell_type": "code",
   "execution_count": 7,
   "metadata": {
    "collapsed": false,
    "deletable": true,
    "editable": true,
    "jupyter": {
     "outputs_hidden": false
    },
    "pycharm": {
     "is_executing": true
    }
   },
   "outputs": [],
   "source": [
    "xPH = tf.compat.v1.placeholder(tfbase, [None,D])\n",
    "yPH = tf.compat.v1.placeholder(tfbase, [None,1],)\n",
    "W = tf.Variable(tf.zeros([D,1],tfbase),tfbase)\n",
    "all_weights = [W]\n",
    "w_shapes = [W.get_shape()]\n",
    "linProd= tf.matmul(xPH,W)\n",
    "objective=tf.nn.sigmoid_cross_entropy_with_logits(logits=linProd,labels=yPH)\n",
    "NLL=tf.reduce_mean(objective)\n",
    "# Create an ExponentialMovingAverage object\n",
    "\n",
    "# operation to calculate gradient and return gradient\n",
    "opt = tf.compat.v1.train.GradientDescentOptimizer(learning_rate=1)\n",
    "grads_and_vars = opt.compute_gradients(NLL, all_weights)\n",
    "gradients, variables = zip(*grads_and_vars)\n",
    "weights = tf.reshape(variables[0],[D])\n",
    "gPH = tf.compat.v1.placeholder(tfbase,[D])\n",
    "grads_to_apply = []\n",
    "grads_to_apply.append(tf.reshape(gPH,[D,1]))\n",
    "grad_and_vars_to_apply=list(zip(grads_to_apply, variables))\n",
    "tf_train_step = opt.apply_gradients(grad_and_vars_to_apply)\n",
    "\n",
    "vPH=tf.compat.v1.placeholder(tfbase,[D])\n",
    "yPred=tf.sigmoid(linProd)\n",
    "xPHR=tf.reshape(xPH,[-1,D])\n",
    "gradient_explicit=-(yPH-yPred)*xPHR\n",
    "tf_grad_calc=tf.reduce_mean(gradient_explicit,0)\n",
    "gradient_variance_calculation=tf.reduce_mean(gradient_explicit*gradient_explicit,0) \\\n",
    "    -tf_grad_calc*tf_grad_calc\n",
    "better_gradient_variance_intermediate=tf.matmul(gradient_explicit,tf.reshape(vPH,[D,1]))\n",
    "tf_grad_var_calc=tf.nn.moments(better_gradient_variance_intermediate,[0])[1]\n",
    "hessian_explicit= tf.reshape(yPred*(1-yPred),[-1,1,1])*(tf.reshape(xPHR,[-1,D,1])*tf.reshape(xPHR,[-1,1,D]))\n",
    "hessian_calculation=tf.reduce_mean(hessian_explicit,0)\n",
    "\n",
    "correct_prediction = tf.equal(yPH, tf.cast(.5+.5*tf.sign(tf.matmul(xPH, W)),tfbase))\n",
    "accuracy = tf.reduce_mean(tf.cast(correct_prediction,tfbase))\n",
    "\n",
    "# wrapping tf functions to pass to run_sampler and generate_sbps_samples\n",
    "def grad_calc(data,labels):\n",
    "    return tf_grad_calc.eval(feed_dict={xPH: data, yPH: labels})\n",
    "def grad_var_calc(data,labels,v):\n",
    "    return tf_grad_var_calc.eval(feed_dict={xPH: data, yPH: labels, vPH: v})\n",
    "def train_step(g):\n",
    "    return tf_train_step.run(feed_dict={gPH: g})\n",
    "weights = flatten_tensor_list(all_weights)\n",
    "def get_weights():\n",
    "    return weights.eval()\n",
    "# function to assign weights\n",
    "assign_weights_ops = []\n",
    "curr_ind = 0\n",
    "w_to_assign = tf.compat.v1.placeholder(tfbase,[D],name='w_to_assign')\n",
    "for [weight,shape] in zip(all_weights,w_shapes):\n",
    "    assign_weights_ops.append(weight.assign(tf.reshape(w_to_assign[curr_ind:curr_ind + int(np.prod(shape))],shape)))\n",
    "    curr_ind += int(np.prod(shape))\n",
    "def set_weights(w):\n",
    "    for a_w in assign_weights_ops:\n",
    "        sess.run(a_w,feed_dict={w_to_assign:w})"
   ]
  },
  {
   "cell_type": "markdown",
   "metadata": {
    "deletable": true,
    "editable": true
   },
   "source": [
    "### function to initialize session and run optimization/sampling"
   ]
  },
  {
   "cell_type": "code",
   "execution_count": 5,
   "metadata": {
    "collapsed": false,
    "deletable": true,
    "editable": true,
    "jupyter": {
     "outputs_hidden": false
    }
   },
   "outputs": [
    {
     "name": "stdout",
     "output_type": "stream",
     "text": [
      "condition number  1005.3618936878329\n"
     ]
    }
   ],
   "source": [
    "# Calculate Hessian\n",
    "sess.run(tf.compat.v1.global_variables_initializer())\n",
    "set_weights(W_map)\n",
    "hessian_map=hessian_calculation.eval(feed_dict={xPH: data, yPH: labels})\n",
    "hessian_map=hessian_map*N\n",
    "cov_map=np.linalg.inv(hessian_map)\n",
    "cond_num = np.max(np.linalg.eig(hessian_map)[0])/float(np.min(np.linalg.eig(hessian_map)[0]))\n",
    "print ('condition number ', cond_num)"
   ]
  },
  {
   "cell_type": "markdown",
   "metadata": {
    "deletable": true,
    "editable": true
   },
   "source": [
    "## Run samplers"
   ]
  },
  {
   "cell_type": "code",
   "execution_count": 20,
   "metadata": {
    "collapsed": false,
    "deletable": true,
    "editable": true,
    "jupyter": {
     "outputs_hidden": false
    },
    "scrolled": true
   },
   "outputs": [
    {
     "name": "stdout",
     "output_type": "stream",
     "text": [
      "Running 1000 epochs (10000.0 iterations) per method\n",
      "Running SBPS, k = 3\n",
      "Evaluating Test error / NLL -  0\n"
     ]
    },
    {
     "name": "stderr",
     "output_type": "stream",
     "text": [
      "2023-12-03 20:50:35.623013: W tensorflow/c/c_api.cc:300] Operation '{name:'Variable_1/Assign' id:176 op device:{requested: '', assigned: ''} def:{{{node Variable_1/Assign}} = AssignVariableOp[_has_manual_control_dependencies=true, dtype=DT_DOUBLE, validate_shape=false](Variable_1, zeros_1)}}' was changed by setting attribute after it was run by a session. This mutation will have no effect, and will trigger an error in the future. Either don't modify nodes after running them or create a new session.\n"
     ]
    },
    {
     "name": "stdout",
     "output_type": "stream",
     "text": [
      "Evaluating Test error / NLL -  0\n",
      "Time elapsed -  22.012594  secs ( 0.36687657  mins)\n",
      "Warning - minibatch variance smaller than  1e-15  calculated  1  times. Consider increasing minibatch size.\n",
      "Generating discrete samples from continuous SBPS trajectory\n",
      "Evaluating Test error -  0\n",
      "Number of bounces: 1425\n",
      "percent p(acc)>1:  0.07929824561403509\n",
      "percent rejections:  0.8575\n",
      "percent negative slope:  0.1682\n",
      "total travel time:  217.07019983797858\n",
      "max trajectories:  0\n",
      "refreshments: 13\n",
      "Running pSBPS, k = 3\n",
      "Evaluating Test error / NLL -  0\n"
     ]
    },
    {
     "name": "stderr",
     "output_type": "stream",
     "text": [
      "2023-12-03 20:51:03.039899: W tensorflow/c/c_api.cc:300] Operation '{name:'Variable_1/Assign' id:176 op device:{requested: '', assigned: ''} def:{{{node Variable_1/Assign}} = AssignVariableOp[_has_manual_control_dependencies=true, dtype=DT_DOUBLE, validate_shape=false](Variable_1, zeros_1)}}' was changed by setting attribute after it was run by a session. This mutation will have no effect, and will trigger an error in the future. Either don't modify nodes after running them or create a new session.\n"
     ]
    },
    {
     "name": "stdout",
     "output_type": "stream",
     "text": [
      "Evaluating Test error / NLL -  0\n",
      "Time elapsed -  24.283445  secs ( 0.4047241  mins)\n",
      "Warning - minibatch variance smaller than  1e-15  calculated  1  times. Consider increasing minibatch size.\n",
      "Generating discrete samples from continuous SBPS trajectory\n",
      "Evaluating Test error -  0\n",
      "Number of bounces: 1098\n",
      "percent p(acc)>1:  0.061930783242258654\n",
      "percent rejections:  0.8902\n",
      "percent negative slope:  0.2002\n",
      "total travel time:  375.0688052103604\n",
      "max trajectories:  0\n",
      "refreshments: 21\n",
      "condition number  1005.3618936878329\n"
     ]
    }
   ],
   "source": [
    "# run samplers\n",
    "n_epochs=1000\n",
    "batch_size=100\n",
    "total_iter=n_epochs*(N/batch_size)\n",
    "NLL_factor = total_iter\n",
    "print('Running ' + str(n_epochs) + ' epochs (' +str(total_iter) + ' iterations) per method')\n",
    "fW_map = np.ndarray.flatten(W_map)\n",
    "\n",
    "W_start = np.random.multivariate_normal(fW_map,cov_map*100)\n",
    "k = 3\n",
    "plt_labels = []\n",
    "trajectories = []\n",
    "NLLs = []\n",
    "\n",
    "# SBPS\n",
    "k = 3\n",
    "print('Running SBPS, k = ' + str(k))\n",
    "sess.run(tf.compat.v1.initialize_all_variables())\n",
    "my_SBPS = SBPS(D,N,batch_size,k)\n",
    "NLL_SBPS_0,samples_SBPS_0 = run_sampler(my_SBPS,get_weights,set_weights,\\\n",
    "                                                       test_error,total_iter,n_epochs,NLL_factor,\\\n",
    "                                                       data,labels,batch_size,grad_calc,\\\n",
    "                                                       train_step,grad_var_calc,W_init=W_start)\n",
    "NLL_SBPS,samples_SBPS = generate_SBPS_samples(my_SBPS,get_weights,set_weights,test_error,\\\n",
    "                                                train_step,NLL_factor,W_init=W_start)\n",
    "\n",
    "\n",
    "#NLL_SBPS_0,acc_SBPS,samples_SBPS_0 = runOptimizationExplicit(my_SBPS,0,W_start)\n",
    "#NLL_SBPS,samples_SBPS = generate_SBPS_samples(my_SBPS,W_start,W,N)\n",
    "my_SBPS.print_summary()\n",
    "plt_labels.append('SBPS')\n",
    "trajectories.append(samples_SBPS)\n",
    "NLLs.append(NLL_SBPS)\n",
    "\n",
    "# pSBPS\n",
    "print('Running pSBPS, k = ' + str(k))\n",
    "sess.run(tf.compat.v1.initialize_all_variables())\n",
    "my_pSBPS = SBPS(D,N,batch_size,k)\n",
    "NLL_pSBPS_0,samples_pSBPS_0 = run_sampler(my_pSBPS,get_weights,set_weights,\\\n",
    "                                                       test_error,total_iter,n_epochs,NLL_factor,\\\n",
    "                                                       data,labels,batch_size,grad_calc,\\\n",
    "                                                       train_step,grad_var_calc,W_init=W_start,use_preconditioner=True)\n",
    "NLL_pSBPS,samples_pSBPS = generate_SBPS_samples(my_pSBPS,get_weights,set_weights,test_error,\\\n",
    "                                                train_step,NLL_factor,W_init=W_start)\n",
    "my_pSBPS.print_summary()\n",
    "plt_labels.append('pSBPS')\n",
    "trajectories.append(samples_pSBPS)\n",
    "NLLs.append(NLL_pSBPS)\n",
    "\n",
    "#assign_weights(W_map,all_weights,w_shapes) \n",
    "#NLL_map = sess.run(NLL, feed_dict={xPH: data, yPH: labels})\n",
    "cond_num = np.max(np.linalg.eig(hessian_map)[0])/float(np.min(np.linalg.eig(hessian_map)[0]))\n",
    "print('condition number ', cond_num)"
   ]
  },
  {
   "cell_type": "markdown",
   "metadata": {
    "deletable": true,
    "editable": true
   },
   "source": [
    "## Plots"
   ]
  },
  {
   "cell_type": "code",
   "execution_count": 9,
   "metadata": {
    "collapsed": false,
    "deletable": true,
    "editable": true,
    "jupyter": {
     "outputs_hidden": false
    }
   },
   "outputs": [],
   "source": [
    "# make plots pretty\n",
    "plt.rcParams['font.size'] = 16\n",
    "plt.rcParams['font.family']='serif'\n",
    "plt.rcParams['mathtext.default']='regular'\n",
    "\n",
    "def plot_traj():\n",
    "    # Trajectories \n",
    "    def gauss(x,y,hess,mu):\n",
    "        vec = np.asarray([x,y]) - np.asarray(mu)\n",
    "        return  -np.dot(vec,np.dot(hess,np.transpose(vec)))/2.0\n",
    "    cont_range = 50\n",
    "    x = np.linspace(W_map[0]-cont_range*np.sqrt(cov_map[0,0]), W_map[0]+cont_range*np.sqrt(cov_map[0,0]), 100)\n",
    "    y = np.linspace(W_map[1]-cont_range*np.sqrt(cov_map[1,1]), W_map[1]+cont_range*np.sqrt(cov_map[1,1]), 100)\n",
    "    X, Y = np.meshgrid(x, y)\n",
    "    zs = np.array([gauss(x,y,np.linalg.inv(cov_map[0:2,0:2]),[W_map[0],W_map[1]]) \\\n",
    "                   for x,y in zip(np.ravel(X), np.ravel(Y))])\n",
    "    Z = zs.reshape(X.shape)\n",
    "    CL = plt.contour(X, Y, Z,np.arange(-50, -1, 10),label='Laplace approx.',colors=('k'))\n",
    "    plt.clabel(CL, inline=1, fontsize=10)\n",
    "\n",
    "    # plt.title('Trajectories')\n",
    "    ptx = []\n",
    "    pty = []\n",
    "    for i in range(10):\n",
    "        tx = np.random.multivariate_normal(np.ndarray.flatten(W_map),cov_map)\n",
    "        ptx.append(tx[0])\n",
    "        pty.append(tx[1])\n",
    "\n",
    "\n",
    "    for i in range(len(trajectories)):\n",
    "        plt.plot(trajectories[i][:-1,0],trajectories[i][:-1,1],label=plt_labels[i])\n",
    "    plt.xlabel('$w_0$')\n",
    "    plt.ylabel('$w_1$')"
   ]
  },
  {
   "cell_type": "code",
   "execution_count": 10,
   "metadata": {
    "collapsed": false,
    "deletable": true,
    "editable": true,
    "jupyter": {
     "outputs_hidden": false
    }
   },
   "outputs": [],
   "source": [
    "def rotate_traj_ACF(trajectories,burnin):\n",
    "    base_change = np.linalg.eig(cov_map)[1]\n",
    "    corr2s = []\n",
    "    inds = [np.linalg.eig(cov_map)[0].argmax(),np.linalg.eig(cov_map)[0].argmin()]\n",
    "    wtrajectories = []\n",
    "    for i in range(len(trajectories)):\n",
    "        wtrajectories.append(np.dot(trajectories[i],base_change))\n",
    "    wwmap = np.squeeze(np.dot(np.transpose(W_map),base_change))\n",
    "    for j in range(2):\n",
    "        corrs3 = [] \n",
    "        for i in range(len(trajectories)): \n",
    "            #ACF\n",
    "            sig = wtrajectories[i][burnin:,inds[j]] - np.mean(wtrajectories[i][burnin:,inds[j]]) \n",
    "            corr = np.correlate(sig,sig,'full') \n",
    "            corr = corr/np.max(corr)\n",
    "            corr = corr[int(corr.shape[0]/2):] \n",
    "            corrs3.append(corr)\n",
    "        corr2s.append(corrs3)\n",
    "    return wtrajectories, corr2s, wwmap\n",
    "#[wtrajectories, corr2s, wwmap] = rotate_traj_ACF(trajectories,burnin)"
   ]
  },
  {
   "cell_type": "code",
   "execution_count": 11,
   "metadata": {
    "collapsed": false,
    "deletable": true,
    "editable": true,
    "jupyter": {
     "outputs_hidden": false
    }
   },
   "outputs": [],
   "source": [
    "def all_plots2(NLLs,plt_labels,fname,corr2s,wtrajectories,wwmap,mbs):\n",
    "    plt.rcParams['font.size'] = 13\n",
    "    plt.rcParams['font.family']='serif'\n",
    "    plt.rcParams['mathtext.default']='regular'\n",
    "    inds = [np.linalg.eig(cov_map)[0].argmax(),np.linalg.eig(cov_map)[0].argmin()]\n",
    "    \n",
    "    # NLL plot\n",
    "    from matplotlib.ticker import FormatStrFormatter,AutoMinorLocator\n",
    "    plt.subplots(figsize=(9,3))\n",
    "\n",
    "    # ACF\n",
    "    total_iter = max([len(wtrajectories[i])*mbs[i] for i in range(len(wtrajectories))])\n",
    "    j = 1\n",
    "    plt.subplot(132)\n",
    "    #plt.title('direction of largest covariance')\n",
    "    for i in range(len(wtrajectories)): \n",
    "        x = np.asarray(range(len(corr2s[0][i])))\n",
    "        plt.semilogx(mbs[i]*x,corr2s[0][i],label=plt_labels[i]) \n",
    "    plt.xlabel('lag')    \n",
    "    plt.ylabel('ACF (largest variance)')\n",
    "    plt.grid()\n",
    "    plt.axis([0,total_iter-burnin,np.min([min(c) for c in corr2s[0]]),1])\n",
    "\n",
    "    #2d traj\n",
    "    plt.subplot(131)\n",
    "    plot_traj()\n",
    "    plt.axis([-50,50,-8,1])\n",
    "    plt.legend(prop={'size':12})\n",
    "    \n",
    "    def plot_coord(j):\n",
    "        rng = 2*total_iter/5\n",
    "        std = np.sqrt(np.linalg.eig(cov_map)[0])[inds[j]]\n",
    "        for i in range(len(wtrajectories)): \n",
    "            x = np.asarray(range(len(wtrajectories[i][:int(rng/mbs[i]),:])))\n",
    "            plt.plot(mbs[i]*x,wtrajectories[i][:int(rng/mbs[i]),inds[j]])\n",
    "        plt.plot([0,rng],[wwmap[inds[j]],wwmap[inds[j]]],color='black',lw=2)\n",
    "        plt.plot([0,rng],[wwmap[inds[j]] + std,wwmap[inds[j]] + std],color='black',linestyle='--',lw=2)\n",
    "        plt.plot([0,rng],[wwmap[inds[j]] - std,wwmap[inds[j]] - std],color='black',linestyle='--',lw=2)\n",
    "        plt.xlabel('data points observed') \n",
    "        plt.locator_params(axis='x',nbins=2)\n",
    "    # Coordinates (largest)\n",
    "    plt.subplot(133)\n",
    "    plot_coord(0)\n",
    "    plt.ylabel('coordinate trace')\n",
    "\n",
    "    plt.tight_layout()"
   ]
  },
  {
   "cell_type": "code",
   "execution_count": 23,
   "metadata": {
    "collapsed": false,
    "deletable": true,
    "editable": true,
    "jupyter": {
     "outputs_hidden": false
    }
   },
   "outputs": [],
   "source": [
    "# generate and save plots\n",
    "burnin = 1000\n",
    "[wtrajectories, corr2s, wwmap] = rotate_traj_ACF(trajectories,burnin)"
   ]
  },
  {
   "cell_type": "code",
   "execution_count": 24,
   "metadata": {
    "collapsed": false,
    "deletable": true,
    "editable": true,
    "jupyter": {
     "outputs_hidden": false
    }
   },
   "outputs": [
    {
     "name": "stderr",
     "output_type": "stream",
     "text": [
      "/var/folders/mc/mjz6jzk55kvc_8bhz7vcv5_m00k0w7/T/ipykernel_76174/2347924279.py:22: UserWarning: Attempt to set non-positive xlim on a log-scaled axis will be ignored.\n",
      "  plt.axis([0,total_iter-burnin,np.min([min(c) for c in corr2s[0]]),1])\n",
      "/var/folders/mc/mjz6jzk55kvc_8bhz7vcv5_m00k0w7/T/ipykernel_76174/2216915723.py:18: UserWarning: The following kwargs were not used by contour: 'label'\n",
      "  CL = plt.contour(X, Y, Z,np.arange(-50, -1, 10),label='Laplace approx.',colors=('k'))\n"
     ]
    },
    {
     "data": {
      "image/png": "[encoded data removed]",
      "text/plain": [
       "<Figure size 900x300 with 4 Axes>"
      ]
     },
     "metadata": {},
     "output_type": "display_data"
    }
   ],
   "source": [
    "all_plots2(NLLs,plt_labels,'prec2',corr2s,wtrajectories,wwmap,[batch_size]*len(NLLs))"
   ]
  },
  {
   "cell_type": "code",
   "execution_count": null,
   "metadata": {},
   "outputs": [],
   "source": []
  }
 ],
 "metadata": {
  "anaconda-cloud": {},
  "kernelspec": {
   "display_name": "Python 3 (ipykernel)",
   "language": "python",
   "name": "python3"
  },
  "language_info": {
   "codemirror_mode": {
    "name": "ipython",
    "version": 3
   },
   "file_extension": ".py",
   "mimetype": "text/x-python",
   "name": "python",
   "nbconvert_exporter": "python",
   "pygments_lexer": "ipython3",
   "version": "3.9.10"
  }
 },
 "nbformat": 4,
 "nbformat_minor": 4
}
